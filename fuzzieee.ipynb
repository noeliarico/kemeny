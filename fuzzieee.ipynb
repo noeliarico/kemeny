{
 "cells": [
  {
   "cell_type": "code",
   "execution_count": 1,
   "metadata": {},
   "outputs": [
    {
     "name": "stdout",
     "output_type": "stream",
     "text": [
      "SCF loaded\n"
     ]
    }
   ],
   "source": [
    "import pandas as pd\n",
    "import numpy as np\n",
    "from kemeny.scf.borda import *\n",
    "from kemeny.scf.condorcet import *\n",
    "from kemeny.scf.distance import dRP\n",
    "#import kemeny.scf.initialization as init\n",
    "#import kemeny.azzinimunda.azzinimunda0 as am0\n",
    "#import kemeny.azzinimundºa.azzinimunda0b as am0b\n",
    "#import kemeny.azzinimunda.azzinimunda1 as am1\n",
    "#import kemeny.azzinimunda.azzinimunda1rec as am1rec\n",
    "#import kemeny.azzinimunda.azzinimunda2 as am2\n",
    "import kemeny.azzinimunda.azzinimunda3 as am3\n",
    "import kemeny.azzinimunda.azzinimunda4 as am4\n",
    "import time\n",
    "import sys"
   ]
  },
  {
   "cell_type": "code",
   "execution_count": 2,
   "metadata": {},
   "outputs": [
    {
     "name": "stdout",
     "output_type": "stream",
     "text": [
      "[[ 6  5  8  7  2 10  0 11  9  3  4  1]\n",
      " [ 6  5  9  7  2 10  0 11  8  3  4  1]\n",
      " [ 6  5  9  8  2 10  0 11  7  3  4  1]\n",
      " [ 7  5  9  8  2 10  0 11  6  3  4  1]\n",
      " [ 6  5  8  7  3 10  0 11  9  2  4  1]\n",
      " [ 6  5  9  7  3 10  0 11  8  2  4  1]\n",
      " [ 6  5  9  8  3 10  0 11  7  2  4  1]\n",
      " [ 7  5  9  8  3 10  0 11  6  2  4  1]\n",
      " [ 6  4  8  7  5 10  0 11  9  2  3  1]\n",
      " [ 6  4  9  7  5 10  0 11  8  2  3  1]\n",
      " [ 6  4  9  8  5 10  0 11  7  2  3  1]\n",
      " [ 7  4  9  8  5 10  0 11  6  2  3  1]\n",
      " [ 6  5  8  7  4 10  0 11  9  2  3  1]\n",
      " [ 6  5  9  7  4 10  0 11  8  2  3  1]\n",
      " [ 6  5  9  8  4 10  0 11  7  2  3  1]\n",
      " [ 7  5  9  8  4 10  0 11  6  2  3  1]]\n",
      "7.291900157928467\n",
      "[ 2  7  2  3  6  1 10  0  2  8  6  9]\n",
      "[ 2  7  2  3  6  1 10  0  2  8  6  9]\n",
      "[ 2  7  2  3  6  1 10  0  2  8  6  9]\n",
      "[[ 6  5  8  7  2 10  0 11  9  3  4  1]\n",
      " [ 6  5  9  7  2 10  0 11  8  3  4  1]\n",
      " [ 6  5  9  8  2 10  0 11  7  3  4  1]\n",
      " [ 7  5  9  8  2 10  0 11  6  3  4  1]\n",
      " [ 6  5  8  7  3 10  0 11  9  2  4  1]\n",
      " [ 6  5  9  7  3 10  0 11  8  2  4  1]\n",
      " [ 6  5  9  8  3 10  0 11  7  2  4  1]\n",
      " [ 7  5  9  8  3 10  0 11  6  2  4  1]\n",
      " [ 6  4  8  7  5 10  0 11  9  2  3  1]\n",
      " [ 6  4  9  7  5 10  0 11  8  2  3  1]\n",
      " [ 6  4  9  8  5 10  0 11  7  2  3  1]\n",
      " [ 7  4  9  8  5 10  0 11  6  2  3  1]\n",
      " [ 6  5  8  7  4 10  0 11  9  2  3  1]\n",
      " [ 6  5  9  7  4 10  0 11  8  2  3  1]\n",
      " [ 6  5  9  8  4 10  0 11  7  2  3  1]\n",
      " [ 7  5  9  8  4 10  0 11  6  2  3  1]]\n",
      "7.595212936401367\n"
     ]
    }
   ],
   "source": [
    "om = np.array([\n",
    "[0,2,5,7,3,5,4,7,5,4,5,4],\n",
    "[8,0,6,6,5,9,4,9,7,4,4,6],\n",
    "[5,4,0,4,3,6,3,6,5,4,4,2],\n",
    "[3,4,6,0,3,6,3,8,5,4,4,2],\n",
    "[7,5,7,7,0,10,5,9,9,5,5,4],\n",
    "[5,1,4,4,0,0,3,7,4,4,4,2],\n",
    "[6,6,7,7,5,7,0,9,7,7,6,6],\n",
    "[3,1,4,2,1,3,1,0,2,3,4,2],\n",
    "[5,3,5,5,1,6,3,8,0,3,4,3],\n",
    "[6,6,6,6,5,6,3,7,7,0,6,4],\n",
    "[5,6,6,6,5,6,4,6,6,4,0,4],\n",
    "[6,4,8,8,6,8,4,8,7,6,6,0]])\n",
    "\n",
    "rep = 3\n",
    "\n",
    "times = np.zeros(rep)\n",
    "for i in range(rep):\n",
    "    # Algorithm with Condorcet winner\n",
    "    algorithm = am3.AzziniMunda3(om) \n",
    "    start_time = time.time()\n",
    "    sol = algorithm.execute()\n",
    "    t = (time.time() - start_time)\n",
    "    times[i] = t\n",
    "    #print(t)\n",
    "exec_time = np.median(times)\n",
    "print(sol)\n",
    "print(exec_time)\n",
    "\n",
    "times = np.zeros(rep)\n",
    "for i in range(rep):\n",
    "    # Algorithm with Condorcet winner\n",
    "    algorithm = am4.AzziniMunda4(om) \n",
    "    start_time = time.time()\n",
    "    sol = algorithm.execute()\n",
    "    t = (time.time() - start_time)\n",
    "    times[i] = t\n",
    "    #print(t)\n",
    "exec_time = np.median(times)\n",
    "print(sol)\n",
    "print(exec_time)"
   ]
  },
  {
   "cell_type": "code",
   "execution_count": 3,
   "metadata": {},
   "outputs": [
    {
     "data": {
      "text/plain": [
       "3"
      ]
     },
     "execution_count": 3,
     "metadata": {},
     "output_type": "execute_result"
    }
   ],
   "source": [
    "a = np.array([False, True, True, False, True])\n",
    "a.sum()"
   ]
  },
  {
   "cell_type": "code",
   "execution_count": 24,
   "metadata": {},
   "outputs": [
    {
     "name": "stdout",
     "output_type": "stream",
     "text": [
      "73.10952806472778\n",
      "75.02573490142822\n"
     ]
    }
   ],
   "source": [
    "om = np.array([\n",
    "[0,2,5,7,3,5,4,7,5,4,5,4],\n",
    "[8,0,6,6,5,9,4,9,7,4,4,6],\n",
    "[5,4,0,4,3,6,3,6,5,4,4,2],\n",
    "[3,4,6,0,3,6,3,8,5,4,4,2],\n",
    "[7,5,7,7,0,10,5,9,9,5,5,4],\n",
    "[5,1,4,4,0,0,3,7,4,4,4,2],\n",
    "[6,6,7,7,5,7,0,9,7,7,6,6],\n",
    "[3,1,4,2,1,3,1,0,2,3,4,2],\n",
    "[5,3,5,5,1,6,3,8,0,3,4,3],\n",
    "[6,6,6,6,5,6,3,7,7,0,6,4],\n",
    "[5,6,6,6,5,6,4,6,6,4,0,4],\n",
    "[6,4,8,8,6,8,4,8,7,6,6,0]])\n",
    "\n",
    "rep = 3\n",
    "\n",
    "times = np.zeros(rep)\n",
    "for i in range(rep):\n",
    "    # Algorithm with Condorcet winner\n",
    "    algorithm = am0.AzziniMunda0(om) \n",
    "    start_time = time.time()\n",
    "    sol = algorithm.execute()\n",
    "    t = (time.time() - start_time)\n",
    "    times[i] = t\n",
    "    #print(t)\n",
    "exec_time = np.median(times)\n",
    "print(exec_time)\n",
    "\n",
    "times = np.zeros(rep)\n",
    "for i in range(rep):\n",
    "    # Algorithm with Condorcet winner\n",
    "    algorithm = am0b.AzziniMunda0(om) \n",
    "    start_time = time.time()\n",
    "    sol = algorithm.execute()\n",
    "    t = (time.time() - start_time)\n",
    "    times[i] = t\n",
    "    #print(t)\n",
    "exec_time = np.median(times)\n",
    "\n",
    "299.9248242378235\n",
    "307.79731011390686\n",
    "print(exec_time)"
   ]
  },
  {
   "cell_type": "code",
   "execution_count": 17,
   "metadata": {},
   "outputs": [
    {
     "data": {
      "text/plain": [
       "array([15, 10,  5,  0])"
      ]
     },
     "execution_count": 17,
     "metadata": {},
     "output_type": "execute_result"
    }
   ],
   "source": [
    "n = 4\n",
    "m = 10\n",
    "(np.arange(n)*m//2)[::-1]"
   ]
  },
  {
   "cell_type": "code",
   "execution_count": 18,
   "metadata": {},
   "outputs": [
    {
     "name": "stdout",
     "output_type": "stream",
     "text": [
      "[ 0 11 13  5 10  3  2  6  8  9  1  7 12  4 14]\n",
      "[413]\n",
      "[401]\n"
     ]
    }
   ],
   "source": [
    "om = np.array([\n",
    "[0,6,9,4,6,5,6,7,7,7,5,6,6,4,8],\n",
    "[4,0,4,4,6,4,3,3,4,6,3,4,5,4,6],\n",
    "[1,6,0,4,4,4,4,3,4,5,4,4,3,2,6],\n",
    "[6,6,6,0,6,4,4,6,6,4,6,4,5,6,7],\n",
    "[4,4,6,4,0,3,3,4,4,5,3,4,7,4,7],\n",
    "[5,6,6,6,7,0,6,4,7,5,4,7,6,6,7],\n",
    "[4,7,6,6,7,4,0,6,6,6,6,7,7,6,7],\n",
    "[3,7,7,4,6,6,4,0,6,6,3,5,7,4,8],\n",
    "[3,6,6,4,6,3,4,4,0,6,3,4,6,4,6],\n",
    "[3,4,5,6,5,5,4,4,4,0,4,3,6,5,7],\n",
    "[5,7,6,4,7,6,4,7,7,6,0,5,8,6,8],\n",
    "[4,6,6,6,6,3,3,5,6,7,5,0,6,4,6],\n",
    "[4,5,7,5,3,4,3,3,4,4,2,4,0,3,7],\n",
    "[6,6,8,4,6,4,4,6,6,5,4,6,7,0,7],\n",
    "[2,4,4,3,3,3,3,2,4,3,2,4,3,3,0]])\n",
    "\n",
    "\n",
    "# Inicializando con inf 325.75592827796936\n",
    "r = ranking_to_lineal(borda(om))\n",
    "print(r)\n",
    "d = dRP(r, om)\n",
    "print(d)\n",
    "\n",
    "print(dRP(np.array([5,9, 13,  2, 10,  0,  1,  6,  8, 11,  3,  7, 12,  4, 14]), om))\n",
    "\n"
   ]
  },
  {
   "cell_type": "code",
   "execution_count": 2,
   "metadata": {
    "collapsed": true
   },
   "outputs": [
    {
     "ename": "NameError",
     "evalue": "name 'np' is not defined",
     "output_type": "error",
     "traceback": [
      "\u001b[0;31m---------------------------------------------------------------------------\u001b[0m",
      "\u001b[0;31mNameError\u001b[0m                                 Traceback (most recent call last)",
      "\u001b[0;32m<ipython-input-2-510784b026bc>\u001b[0m in \u001b[0;36m<module>\u001b[0;34m\u001b[0m\n\u001b[0;32m----> 1\u001b[0;31m om = np.array([\n\u001b[0m\u001b[1;32m      2\u001b[0m \u001b[0;34m[\u001b[0m\u001b[0;36m0\u001b[0m\u001b[0;34m,\u001b[0m\u001b[0;36m7\u001b[0m\u001b[0;34m,\u001b[0m\u001b[0;36m8\u001b[0m\u001b[0;34m,\u001b[0m\u001b[0;36m4\u001b[0m\u001b[0;34m,\u001b[0m\u001b[0;36m8\u001b[0m\u001b[0;34m,\u001b[0m\u001b[0;36m7\u001b[0m\u001b[0;34m,\u001b[0m\u001b[0;36m7\u001b[0m\u001b[0;34m,\u001b[0m\u001b[0;36m6\u001b[0m\u001b[0;34m,\u001b[0m\u001b[0;36m9\u001b[0m\u001b[0;34m,\u001b[0m\u001b[0;36m7\u001b[0m\u001b[0;34m,\u001b[0m\u001b[0;36m6\u001b[0m\u001b[0;34m,\u001b[0m\u001b[0;36m6\u001b[0m\u001b[0;34m]\u001b[0m\u001b[0;34m,\u001b[0m\u001b[0;34m\u001b[0m\u001b[0;34m\u001b[0m\u001b[0m\n\u001b[1;32m      3\u001b[0m \u001b[0;34m[\u001b[0m\u001b[0;36m3\u001b[0m\u001b[0;34m,\u001b[0m\u001b[0;36m0\u001b[0m\u001b[0;34m,\u001b[0m\u001b[0;36m6\u001b[0m\u001b[0;34m,\u001b[0m\u001b[0;36m3\u001b[0m\u001b[0;34m,\u001b[0m\u001b[0;36m4\u001b[0m\u001b[0;34m,\u001b[0m\u001b[0;36m3\u001b[0m\u001b[0;34m,\u001b[0m\u001b[0;36m5\u001b[0m\u001b[0;34m,\u001b[0m\u001b[0;36m3\u001b[0m\u001b[0;34m,\u001b[0m\u001b[0;36m5\u001b[0m\u001b[0;34m,\u001b[0m\u001b[0;36m6\u001b[0m\u001b[0;34m,\u001b[0m\u001b[0;36m4\u001b[0m\u001b[0;34m,\u001b[0m\u001b[0;36m3\u001b[0m\u001b[0;34m]\u001b[0m\u001b[0;34m,\u001b[0m\u001b[0;34m\u001b[0m\u001b[0;34m\u001b[0m\u001b[0m\n\u001b[1;32m      4\u001b[0m \u001b[0;34m[\u001b[0m\u001b[0;36m2\u001b[0m\u001b[0;34m,\u001b[0m\u001b[0;36m4\u001b[0m\u001b[0;34m,\u001b[0m\u001b[0;36m0\u001b[0m\u001b[0;34m,\u001b[0m\u001b[0;36m4\u001b[0m\u001b[0;34m,\u001b[0m\u001b[0;36m5\u001b[0m\u001b[0;34m,\u001b[0m\u001b[0;36m4\u001b[0m\u001b[0;34m,\u001b[0m\u001b[0;36m5\u001b[0m\u001b[0;34m,\u001b[0m\u001b[0;36m5\u001b[0m\u001b[0;34m,\u001b[0m\u001b[0;36m3\u001b[0m\u001b[0;34m,\u001b[0m\u001b[0;36m7\u001b[0m\u001b[0;34m,\u001b[0m\u001b[0;36m7\u001b[0m\u001b[0;34m,\u001b[0m\u001b[0;36m3\u001b[0m\u001b[0;34m]\u001b[0m\u001b[0;34m,\u001b[0m\u001b[0;34m\u001b[0m\u001b[0;34m\u001b[0m\u001b[0m\n\u001b[1;32m      5\u001b[0m \u001b[0;34m[\u001b[0m\u001b[0;36m6\u001b[0m\u001b[0;34m,\u001b[0m\u001b[0;36m7\u001b[0m\u001b[0;34m,\u001b[0m\u001b[0;36m6\u001b[0m\u001b[0;34m,\u001b[0m\u001b[0;36m0\u001b[0m\u001b[0;34m,\u001b[0m\u001b[0;36m7\u001b[0m\u001b[0;34m,\u001b[0m\u001b[0;36m7\u001b[0m\u001b[0;34m,\u001b[0m\u001b[0;36m8\u001b[0m\u001b[0;34m,\u001b[0m\u001b[0;36m6\u001b[0m\u001b[0;34m,\u001b[0m\u001b[0;36m7\u001b[0m\u001b[0;34m,\u001b[0m\u001b[0;36m9\u001b[0m\u001b[0;34m,\u001b[0m\u001b[0;36m7\u001b[0m\u001b[0;34m,\u001b[0m\u001b[0;36m5\u001b[0m\u001b[0;34m]\u001b[0m\u001b[0;34m,\u001b[0m\u001b[0;34m\u001b[0m\u001b[0;34m\u001b[0m\u001b[0m\n",
      "\u001b[0;31mNameError\u001b[0m: name 'np' is not defined"
     ]
    }
   ],
   "source": [
    "\n",
    "om = np.array([\n",
    "[0,7,8,4,8,7,7,6,9,7,6,6],\n",
    "[3,0,6,3,4,3,5,3,5,6,4,3],\n",
    "[2,4,0,4,5,4,5,5,3,7,7,3],\n",
    "[6,7,6,0,7,7,8,6,7,9,7,5],\n",
    "[2,6,5,3,0,5,6,4,6,6,6,4],\n",
    "[3,7,6,3,5,0,6,5,6,7,7,5],\n",
    "[3,5,5,2,4,4,0,4,6,5,4,3],\n",
    "[4,7,5,4,6,5,6,0,5,5,6,5],\n",
    "[1,5,7,3,4,4,4,5,0,6,4,4],\n",
    "[3,4,3,1,4,3,5,5,4,0,3,4],\n",
    "[4,6,3,3,4,3,6,4,6,7,0,5],\n",
    "[4,7,7,5,6,5,7,5,6,6,5,0]])\n",
    "\n",
    "np.set_printoptions(threshold=sys.maxsize)\n",
    "algorithm = am0.AzziniMunda0(om) \n",
    "start_time = time.time()\n",
    "sol = algorithm.execute()\n",
    "t = (time.time() - start_time)\n",
    "print(t)\n",
    "#print(sol)\n",
    "result = np.array([sol.shape[0], algorithm.ntentative], dtype=np.dtype(object))\n",
    "print(result)"
   ]
  },
  {
   "cell_type": "code",
   "execution_count": 3,
   "metadata": {},
   "outputs": [
    {
     "name": "stdout",
     "output_type": "stream",
     "text": [
      "30.579323053359985\n",
      "[[ 1  7 10  0  5  2  8  3  9 11  6  4]\n",
      " [ 1  8 10  0  5  2  7  3  9 11  6  4]\n",
      " [ 1  9 10  0  5  2  7  3  8 11  6  4]\n",
      " [ 1  7 10  0  5  2  8  4  9 11  6  3]\n",
      " [ 1  8 10  0  5  2  7  4  9 11  6  3]\n",
      " [ 1  9 10  0  5  2  7  4  8 11  6  3]\n",
      " [ 1  7 10  0  5  3  8  2  9 11  6  4]\n",
      " [ 1  8 10  0  5  3  7  2  9 11  6  4]\n",
      " [ 1  9 10  0  5  3  7  2  8 11  6  4]\n",
      " [ 1  7 10  0  4  5  8  2  9 11  6  3]\n",
      " [ 1  8 10  0  4  5  7  2  9 11  6  3]\n",
      " [ 1  9 10  0  4  5  7  2  8 11  6  3]\n",
      " [ 1  7 10  0  5  4  8  2  9 11  6  3]\n",
      " [ 1  8 10  0  5  4  7  2  9 11  6  3]\n",
      " [ 1  9 10  0  5  4  7  2  8 11  6  3]\n",
      " [ 1  7 10  0  5  3  8  4  9 11  6  2]\n",
      " [ 1  8 10  0  5  3  7  4  9 11  6  2]\n",
      " [ 1  9 10  0  5  3  7  4  8 11  6  2]\n",
      " [ 1  7 10  0  4  5  8  3  9 11  6  2]\n",
      " [ 1  8 10  0  4  5  7  3  9 11  6  2]\n",
      " [ 1  9 10  0  4  5  7  3  8 11  6  2]\n",
      " [ 1  7 10  0  5  4  8  3  9 11  6  2]\n",
      " [ 1  8 10  0  5  4  7  3  9 11  6  2]\n",
      " [ 1  9 10  0  5  4  7  3  8 11  6  2]]\n",
      "[24 198140]\n",
      "30.69919991493225\n",
      "[[ 1  7 10  0  5  2  8  3  9 11  6  4]\n",
      " [ 1  8 10  0  5  2  7  3  9 11  6  4]\n",
      " [ 1  9 10  0  5  2  7  3  8 11  6  4]\n",
      " [ 1  7 10  0  5  2  8  4  9 11  6  3]\n",
      " [ 1  8 10  0  5  2  7  4  9 11  6  3]\n",
      " [ 1  9 10  0  5  2  7  4  8 11  6  3]\n",
      " [ 1  7 10  0  5  3  8  2  9 11  6  4]\n",
      " [ 1  8 10  0  5  3  7  2  9 11  6  4]\n",
      " [ 1  9 10  0  5  3  7  2  8 11  6  4]\n",
      " [ 1  7 10  0  4  5  8  2  9 11  6  3]\n",
      " [ 1  8 10  0  4  5  7  2  9 11  6  3]\n",
      " [ 1  9 10  0  4  5  7  2  8 11  6  3]\n",
      " [ 1  7 10  0  5  4  8  2  9 11  6  3]\n",
      " [ 1  8 10  0  5  4  7  2  9 11  6  3]\n",
      " [ 1  9 10  0  5  4  7  2  8 11  6  3]\n",
      " [ 1  7 10  0  5  3  8  4  9 11  6  2]\n",
      " [ 1  8 10  0  5  3  7  4  9 11  6  2]\n",
      " [ 1  9 10  0  5  3  7  4  8 11  6  2]\n",
      " [ 1  7 10  0  4  5  8  3  9 11  6  2]\n",
      " [ 1  8 10  0  4  5  7  3  9 11  6  2]\n",
      " [ 1  9 10  0  4  5  7  3  8 11  6  2]\n",
      " [ 1  7 10  0  5  4  8  3  9 11  6  2]\n",
      " [ 1  8 10  0  5  4  7  3  9 11  6  2]\n",
      " [ 1  9 10  0  5  4  7  3  8 11  6  2]]\n",
      "[24 198140]\n",
      "30.628784894943237\n",
      "[[ 1  7 10  0  5  2  8  3  9 11  6  4]\n",
      " [ 1  8 10  0  5  2  7  3  9 11  6  4]\n",
      " [ 1  9 10  0  5  2  7  3  8 11  6  4]\n",
      " [ 1  7 10  0  5  2  8  4  9 11  6  3]\n",
      " [ 1  8 10  0  5  2  7  4  9 11  6  3]\n",
      " [ 1  9 10  0  5  2  7  4  8 11  6  3]\n",
      " [ 1  7 10  0  5  3  8  2  9 11  6  4]\n",
      " [ 1  8 10  0  5  3  7  2  9 11  6  4]\n",
      " [ 1  9 10  0  5  3  7  2  8 11  6  4]\n",
      " [ 1  7 10  0  4  5  8  2  9 11  6  3]\n",
      " [ 1  8 10  0  4  5  7  2  9 11  6  3]\n",
      " [ 1  9 10  0  4  5  7  2  8 11  6  3]\n",
      " [ 1  7 10  0  5  4  8  2  9 11  6  3]\n",
      " [ 1  8 10  0  5  4  7  2  9 11  6  3]\n",
      " [ 1  9 10  0  5  4  7  2  8 11  6  3]\n",
      " [ 1  7 10  0  5  3  8  4  9 11  6  2]\n",
      " [ 1  8 10  0  5  3  7  4  9 11  6  2]\n",
      " [ 1  9 10  0  5  3  7  4  8 11  6  2]\n",
      " [ 1  7 10  0  4  5  8  3  9 11  6  2]\n",
      " [ 1  8 10  0  4  5  7  3  9 11  6  2]\n",
      " [ 1  9 10  0  4  5  7  3  8 11  6  2]\n",
      " [ 1  7 10  0  5  4  8  3  9 11  6  2]\n",
      " [ 1  8 10  0  5  4  7  3  9 11  6  2]\n",
      " [ 1  9 10  0  5  4  7  3  8 11  6  2]]\n",
      "[24 167310]\n",
      "1.4628760814666748\n",
      "[[ 1  7 10  0  5  2  8  3  9 11  6  4]\n",
      " [ 1  8 10  0  5  2  7  3  9 11  6  4]\n",
      " [ 1  9 10  0  5  2  7  3  8 11  6  4]\n",
      " [ 1  7 10  0  5  2  8  4  9 11  6  3]\n",
      " [ 1  8 10  0  5  2  7  4  9 11  6  3]\n",
      " [ 1  9 10  0  5  2  7  4  8 11  6  3]\n",
      " [ 1  7 10  0  5  3  8  2  9 11  6  4]\n",
      " [ 1  8 10  0  5  3  7  2  9 11  6  4]\n",
      " [ 1  9 10  0  5  3  7  2  8 11  6  4]\n",
      " [ 1  7 10  0  4  5  8  2  9 11  6  3]\n",
      " [ 1  8 10  0  4  5  7  2  9 11  6  3]\n",
      " [ 1  9 10  0  4  5  7  2  8 11  6  3]\n",
      " [ 1  7 10  0  5  4  8  2  9 11  6  3]\n",
      " [ 1  8 10  0  5  4  7  2  9 11  6  3]\n",
      " [ 1  9 10  0  5  4  7  2  8 11  6  3]\n",
      " [ 1  7 10  0  5  3  8  4  9 11  6  2]\n",
      " [ 1  8 10  0  5  3  7  4  9 11  6  2]\n",
      " [ 1  9 10  0  5  3  7  4  8 11  6  2]\n",
      " [ 1  7 10  0  4  5  8  3  9 11  6  2]\n",
      " [ 1  8 10  0  4  5  7  3  9 11  6  2]\n",
      " [ 1  9 10  0  4  5  7  3  8 11  6  2]\n",
      " [ 1  7 10  0  5  4  8  3  9 11  6  2]\n",
      " [ 1  8 10  0  5  4  7  3  9 11  6  2]\n",
      " [ 1  9 10  0  5  4  7  3  8 11  6  2]]\n",
      "[24 24]\n"
     ]
    }
   ],
   "source": [
    "om = np.array([\n",
    "[0,7,8,4,8,7,7,6,9,7,6,6],\n",
    "[3,0,6,3,4,3,5,3,5,6,4,3],\n",
    "[2,4,0,4,5,4,5,5,3,7,7,3],\n",
    "[6,7,6,0,7,7,8,6,7,9,7,5],\n",
    "[2,6,5,3,0,5,6,4,6,6,6,4],\n",
    "[3,7,6,3,5,0,6,5,6,7,7,5],\n",
    "[3,5,5,2,4,4,0,4,6,5,4,3],\n",
    "[4,7,5,4,6,5,6,0,5,5,6,5],\n",
    "[1,5,7,3,4,4,4,5,0,6,4,4],\n",
    "[3,4,3,1,4,3,5,5,4,0,3,4],\n",
    "[4,6,3,3,4,3,6,4,6,7,0,5],\n",
    "[4,7,7,5,6,5,7,5,6,6,5,0]])\n",
    "\n",
    "algorithm = am0.AzziniMunda0(om) \n",
    "start_time = time.time()\n",
    "sol = algorithm.execute()\n",
    "t = (time.time() - start_time)\n",
    "print(t)\n",
    "print(sol)\n",
    "result = np.array([sol.shape[0], algorithm.ntentative], dtype=np.dtype(object))\n",
    "print(result)\n",
    "\n",
    "algorithm = am1.AzziniMunda1(om) \n",
    "start_time = time.time()\n",
    "sol = algorithm.execute()\n",
    "t = (time.time() - start_time)\n",
    "print(t)\n",
    "print(sol)\n",
    "result = np.array([sol.shape[0], algorithm.ntentative], dtype=np.dtype(object))\n",
    "print(result)\n",
    "\n",
    "algorithm = am2.AzziniMunda2(om) \n",
    "start_time = time.time()\n",
    "sol = algorithm.execute()\n",
    "t = (time.time() - start_time)\n",
    "print(t)\n",
    "print(sol)\n",
    "result = np.array([sol.shape[0], algorithm.ntentative], dtype=np.dtype(object))\n",
    "print(result)\n",
    "\n",
    "algorithm = am3.AzziniMunda3(om, np.float('inf')) \n",
    "start_time = time.time()\n",
    "sol = algorithm.execute()\n",
    "t = (time.time() - start_time)\n",
    "print(t)\n",
    "print(sol)\n",
    "result = np.array([sol.shape[0], algorithm.ntentative], dtype=np.dtype(object))\n",
    "print(result)"
   ]
  },
  {
   "cell_type": "code",
   "execution_count": 5,
   "metadata": {},
   "outputs": [
    {
     "name": "stdout",
     "output_type": "stream",
     "text": [
      "529.8019149303436\n",
      "[[ 8  7 13 ... 11 12  6]\n",
      " [ 8  7 13 ... 12 11  6]\n",
      " [ 8  7 13 ... 11 12  6]\n",
      " ...\n",
      " [10  9 13 ...  8 12  6]\n",
      " [10  9 12 ...  8 11  6]\n",
      " [10  9 13 ...  8 11  6]]\n",
      "[1458 1458]\n"
     ]
    }
   ],
   "source": [
    "om = np.array([\n",
    "[0,3,8,4,4,5,4,5,6,5,5,5,6,4],\n",
    "[7,0,7,4,3,4,4,4,6,5,6,5,5,4],\n",
    "[2,3,0,2,3,2,2,3,5,4,3,3,3,4],\n",
    "[6,6,8,0,5,5,6,6,9,5,6,6,7,5],\n",
    "[6,7,7,5,0,4,6,5,6,5,5,4,6,5],\n",
    "[5,6,8,5,6,0,6,5,8,5,7,8,6,5],\n",
    "[6,6,8,4,4,4,0,6,5,5,4,6,5,4],\n",
    "[5,6,7,4,5,5,4,0,8,6,5,6,6,7],\n",
    "[4,4,5,1,4,2,5,2,0,4,5,5,5,4],\n",
    "[5,5,6,5,5,5,5,4,6,0,4,5,6,7],\n",
    "[5,4,7,4,5,3,6,5,5,6,0,6,7,4],\n",
    "[5,5,7,4,6,2,4,4,5,5,4,0,5,5],\n",
    "[4,5,7,3,4,4,5,4,5,4,3,5,0,4],\n",
    "[6,6,6,5,5,5,6,3,6,3,6,5,6,0]])\n",
    "\n",
    "algorithm = am3.AzziniMunda3(om, np.float('inf')) \n",
    "start_time = time.time()\n",
    "sol = algorithm.execute()\n",
    "t = (time.time() - start_time)\n",
    "print(t)\n",
    "print(sol)\n",
    "result = np.array([sol.shape[0], algorithm.ntentative], dtype=np.dtype(object))\n",
    "print(result)"
   ]
  },
  {
   "cell_type": "code",
   "execution_count": 12,
   "metadata": {},
   "outputs": [
    {
     "name": "stdout",
     "output_type": "stream",
     "text": [
      "[160]\n",
      "[160]\n"
     ]
    }
   ],
   "source": [
    "print(dRP(np.array([3,4,5,1,8,2,0,7,9,6]), om))\n",
    "print(dRP(np.array([8,2,3,6,7,1,0,5,9,4]), om))"
   ]
  },
  {
   "cell_type": "code",
   "execution_count": 4,
   "metadata": {},
   "outputs": [
    {
     "name": "stdout",
     "output_type": "stream",
     "text": [
      "0.007214069366455078\n",
      "0.005489349365234375\n",
      "0.006863117218017578\n",
      "0.005293846130371094\n",
      "0.004918098449707031\n",
      "0.0049381256103515625\n",
      "0.005132913589477539\n",
      "0.004786968231201172\n",
      "0.004841804504394531\n",
      "0.006578922271728516\n",
      "0.005087137222290039\n",
      "0.006093025207519531\n",
      "0.0061168670654296875\n",
      "0.004683017730712891\n",
      "0.004873991012573242\n",
      "[11 2 1 0 0.005527416865030925 6 6 'NULL']\n",
      "[[5 0 4 1 3 2]\n",
      " [5 1 4 0 3 2]]\n",
      "0.0054280757904052734\n",
      "0.004767894744873047\n",
      "0.004483938217163086\n",
      "0.004602193832397461\n",
      "0.004700899124145508\n",
      "0.004500865936279297\n",
      "0.005040884017944336\n",
      "0.004568815231323242\n",
      "0.005168914794921875\n",
      "0.004619121551513672\n",
      "0.00454401969909668\n",
      "0.005156993865966797\n",
      "0.005354166030883789\n",
      "0.005261898040771484\n",
      "0.004925966262817383\n",
      "[11 2 1 1 0.004874976476033529 6 6 None]\n",
      "[[5 0 4 1 3 2]\n",
      " [5 1 4 0 3 2]]\n",
      "0.002531766891479492\n",
      "0.00228118896484375\n",
      "0.0022232532501220703\n",
      "0.0024919509887695312\n",
      "0.002413034439086914\n",
      "0.002298116683959961\n",
      "0.002299785614013672\n",
      "0.002576112747192383\n",
      "0.002302885055541992\n",
      "0.0023980140686035156\n",
      "0.002357006072998047\n",
      "0.002290010452270508\n",
      "0.002371072769165039\n",
      "0.0023109912872314453\n",
      "0.002321958541870117\n",
      "[11 2 1 2 0.002364476521809896 6 6 None]\n",
      "[[5 0 4 1 3 2]\n",
      " [5 1 4 0 3 2]]\n"
     ]
    }
   ],
   "source": [
    "om = np.array([\n",
    "[0,3,3,0,3,0],\n",
    "[7,0,7,5,5,7],\n",
    "[7,3,0,2,3,4],\n",
    "[10,5,8,0,6,7],\n",
    "[7,5,7,4,0,4],\n",
    "[10,3,6,3,6,0]])\n",
    "\n",
    "results11 = np.zeros(0).reshape(0,8)\n",
    "rep = 15\n",
    "\n",
    "exec_time = 0\n",
    "for i in range(rep):\n",
    "    # Algorithm without Condorcet\n",
    "    algorithm = am0.AzziniMunda0(om) \n",
    "    start_time = time.time()\n",
    "    sol = algorithm.execute()\n",
    "    t = (time.time() - start_time)\n",
    "    exec_time += t\n",
    "    print(t)\n",
    "exec_time = exec_time/rep\n",
    "result = np.array([11, 2, 1, 0, exec_time, sol.shape[1], algorithm.ntentative, \"NULL\"], dtype=np.dtype(object))\n",
    "print(result)\n",
    "results11 = np.vstack((results11, result))\n",
    "print(sol)\n",
    "\n",
    "exec_time = 0\n",
    "for i in range(rep):\n",
    "    # Algorithm with Condorcet winner\n",
    "    algorithm = am1.AzziniMunda1(om) \n",
    "    start_time = time.time()\n",
    "    sol = algorithm.execute()\n",
    "    t = (time.time() - start_time)\n",
    "    exec_time += t\n",
    "    print(t)\n",
    "exec_time = exec_time/rep\n",
    "result = np.array([11, 2, 1, 1, exec_time, sol.shape[1], algorithm.ntentative, algorithm.cwinner], dtype=np.dtype(object))\n",
    "print(result)\n",
    "results11 = np.vstack((results11, result))\n",
    "print(sol)\n",
    "\n",
    "exec_time = 0\n",
    "for i in range(rep):\n",
    "    # Algorithm with Condorcet winner\n",
    "    algorithm = am2.AzziniMunda2(om) \n",
    "    start_time = time.time()\n",
    "    sol = algorithm.execute()\n",
    "    t = (time.time() - start_time)\n",
    "    exec_time += t\n",
    "    print(t)\n",
    "exec_time = exec_time/rep\n",
    "result = np.array([11, 2, 1, 2, exec_time, sol.shape[1], algorithm.ntentative, algorithm.cwinner], dtype=np.dtype(object))\n",
    "print(result)\n",
    "results11 = np.vstack((results11, result))\n",
    "print(sol)"
   ]
  },
  {
   "cell_type": "code",
   "execution_count": 9,
   "metadata": {},
   "outputs": [
    {
     "data": {
      "text/plain": [
       "array([[5, 0, 4, 1, 3, 2],\n",
       "       [5, 1, 4, 0, 3, 2]], dtype=uint8)"
      ]
     },
     "execution_count": 9,
     "metadata": {},
     "output_type": "execute_result"
    }
   ],
   "source": [
    "sol"
   ]
  },
  {
   "cell_type": "code",
   "execution_count": 2,
   "metadata": {},
   "outputs": [
    {
     "name": "stdout",
     "output_type": "stream",
     "text": [
      "[4 0 1 3 2]\n"
     ]
    }
   ],
   "source": [
    "om = np.array([\n",
    "[0,0,0,3,0],\n",
    "[10,0,7,7,7],\n",
    "[10,3,0,7,6],\n",
    "[7,3,3,0,3],\n",
    "[10,3,4,7,0]])\n",
    "print(condorcet(om))"
   ]
  },
  {
   "cell_type": "code",
   "execution_count": 7,
   "metadata": {},
   "outputs": [
    {
     "name": "stdout",
     "output_type": "stream",
     "text": [
      "479.101891040802\n",
      "[[ 1  0  6  9  4 10  2  3  5  7  8 11 12]\n",
      " [ 1  0  6  8  4 10  2  3  5  9  7 11 12]\n",
      " [ 1  0  6  9  4 10  2  3  5  8  7 11 12]\n",
      " [ 1  0  7  8  4 10  2  3  5  9  6 11 12]\n",
      " [ 1  0  7  9  4 10  2  3  5  8  6 11 12]\n",
      " [ 1  0  8  7  4 10  2  3  5  9  6 11 12]\n",
      " [ 1  0  8 10  5  6  2  3  7  4  9 11 12]\n",
      " [ 1  0  9 10  5  6  2  3  7  4  8 11 12]\n",
      " [ 1  0 10  9  5  6  2  3  7  4  8 11 12]\n",
      " [ 1  0  7  9  5 10  2  3  6  4  8 11 12]\n",
      " [ 1  0  8  9  5 10  2  3  6  4  7 11 12]\n",
      " [ 1  0  9  8  5 10  2  3  6  4  7 11 12]\n",
      " [ 1  0 10  8  5  9  2  3  6  4  7 11 12]\n",
      " [ 1  0 10  7  5  8  2  3  9  4  6 11 12]]\n",
      "963.7056851387024\n",
      "[[ 1  0  6  9  4 10  2  3  5  7  8 11 12]\n",
      " [ 1  0  6  8  4 10  2  3  5  9  7 11 12]\n",
      " [ 1  0  6  9  4 10  2  3  5  8  7 11 12]\n",
      " [ 1  0  7  8  4 10  2  3  5  9  6 11 12]\n",
      " [ 1  0  7  9  4 10  2  3  5  8  6 11 12]\n",
      " [ 1  0  8  7  4 10  2  3  5  9  6 11 12]\n",
      " [ 1  0  8 10  5  6  2  3  7  4  9 11 12]\n",
      " [ 1  0  9 10  5  6  2  3  7  4  8 11 12]\n",
      " [ 1  0 10  9  5  6  2  3  7  4  8 11 12]\n",
      " [ 1  0  7  9  5 10  2  3  6  4  8 11 12]\n",
      " [ 1  0  8  9  5 10  2  3  6  4  7 11 12]\n",
      " [ 1  0  9  8  5 10  2  3  6  4  7 11 12]\n",
      " [ 1  0 10  8  5  9  2  3  6  4  7 11 12]\n",
      " [ 1  0 10  7  5  8  2  3  9  4  6 11 12]]\n"
     ]
    }
   ],
   "source": [
    "om = np.array([\n",
    "[0,4,7,9,5,7,6,7,7,7,8,8,7],\n",
    "[6,0,5,7,6,9,7,6,7,7,6,7,6],\n",
    "[3,5,0,5,5,5,4,3,2,6,5,6,9],\n",
    "[1,3,5,0,4,6,4,5,5,5,3,8,7],\n",
    "[5,4,5,6,0,6,5,4,7,4,8,5,8],\n",
    "[3,1,5,4,4,0,3,4,6,4,5,7,7],\n",
    "[4,3,6,6,5,7,0,6,7,6,6,9,7],\n",
    "[3,4,7,5,6,6,4,0,7,7,7,8,7],\n",
    "[3,3,8,5,3,4,3,3,0,5,6,6,7],\n",
    "[3,3,4,5,6,6,4,3,5,0,5,6,7],\n",
    "[2,4,5,7,2,5,4,3,4,5,0,7,8],\n",
    "[2,3,4,2,5,3,1,2,4,4,3,0,7],\n",
    "[3,4,1,3,2,3,3,3,3,3,2,3,0]])\n",
    "\n",
    "algorithm = am2.AzziniMunda2(om) \n",
    "start_time = time.time()\n",
    "sol = algorithm.execute()\n",
    "t = (time.time() - start_time)\n",
    "print(t)\n",
    "print(sol)\n",
    "\n",
    "algorithm = am0.AzziniMunda0(om) \n",
    "start_time = time.time()\n",
    "sol = algorithm.execute()\n",
    "t = (time.time() - start_time)\n",
    "print(t)\n",
    "print(sol)"
   ]
  },
  {
   "cell_type": "code",
   "execution_count": 6,
   "metadata": {},
   "outputs": [
    {
     "data": {
      "text/plain": [
       "array([4, 2, 3, 1])"
      ]
     },
     "execution_count": 6,
     "metadata": {},
     "output_type": "execute_result"
    }
   ],
   "source": [
    "rep = 15\n",
    "results11 = np.zeros(0).reshape(0,8)\n",
    "\n",
    "##############################################################\n",
    "om = np.array([\n",
    "[0,5,3,5,5,5,4,4,4,4,6],\n",
    "[5,0,3,4,3,5,7,3,6,5,6],\n",
    "[7,7,0,10,8,8,8,7,8,8,8],\n",
    "[5,6,0,0,4,6,4,1,5,4,4],\n",
    "[5,7,2,6,0,6,4,0,7,4,7],\n",
    "[5,5,2,4,4,0,4,2,3,6,5],\n",
    "[6,3,2,6,6,6,0,5,4,4,6],\n",
    "[6,7,3,9,10,8,5,0,8,5,8],\n",
    "[6,4,2,5,3,7,6,2,0,7,4],\n",
    "[6,5,2,6,6,4,6,5,3,0,6],\n",
    "[4,4,2,6,3,5,4,2,6,4,0]])\n",
    "\n",
    "\n",
    "for i in range(rep):\n",
    "    # Algorithm without Condorcet\n",
    "    algorithm = am0.AzziniMunda0(om) \n",
    "    start_time = time.time()\n",
    "    sol = algorithm.execute()\n",
    "    t = (time.time() - start_time)\n",
    "    exec_time += t\n",
    "    print(t)\n",
    "exec_time = exec_time/rep\n",
    "result = np.array([11, 2, 1, 0, exec_time, sol.shape[1], algorithm.ntentative, \"NULL\"], dtype=np.dtype(object))\n",
    "print(result)\n",
    "results11 = np.vstack((results11, result))\n",
    "\n",
    "\n",
    "for i in range(rep):\n",
    "    # Algorithm with Condorcet winner\n",
    "    algorithm = am1.AzziniMunda1(om) \n",
    "    start_time = time.time()\n",
    "    sol = algorithm.execute()\n",
    "    t = (time.time() - start_time)\n",
    "    exec_time = t\n",
    "    print(t)\n",
    "exec_time = exec_time/rep\n",
    "result = np.array([11, 2, 1, 1, exec_time, sol.shape[1], algorithm.ntentative, algorithm.cwinner], dtype=np.dtype(object))\n",
    "print(result)\n",
    "results11 = np.vstack((results11, result))\n",
    "\n",
    "\n",
    "for i in range(rep):\n",
    "    # Algorithm with Condorcet winner\n",
    "    algorithm = am2.AzziniMunda2(om) \n",
    "    start_time = time.time()\n",
    "    sol = algorithm.execute()\n",
    "    t = (time.time() - start_time)\n",
    "    exec_time = t\n",
    "    print(t)\n",
    "exec_time = exec_time/rep\n",
    "result = np.array([11, 2, 1, 1, exec_time, sol.shape[1], algorithm.ntentative, algorithm.cwinner], dtype=np.dtype(object))\n",
    "print(result)\n",
    "results11 = np.vstack((results11, result))\n"
   ]
  },
  {
   "cell_type": "code",
   "execution_count": 9,
   "metadata": {},
   "outputs": [],
   "source": [
    "results8 = np.zeros(0).reshape(0,8)"
   ]
  },
  {
   "cell_type": "code",
   "execution_count": null,
   "metadata": {},
   "outputs": [],
   "source": [
    "om = np.array([\n",
    "[0,4,6,5,5,5,2,5],\n",
    "[6,0,4,5,5,3,3,5],\n",
    "[4,6,0,7,6,5,0,5],\n",
    "[5,5,3,0,8,5,1,6],\n",
    "[5,5,4,2,0,4,1,6],\n",
    "[5,7,5,5,6,0,1,4],\n",
    "[8,7,10,9,9,9,0,7],\n",
    "[5,5,5,4,4,6,3,0]])"
   ]
  },
  {
   "cell_type": "code",
   "execution_count": 3,
   "metadata": {},
   "outputs": [
    {
     "name": "stdout",
     "output_type": "stream",
     "text": [
      "0.025683879852294922\n",
      "0.023647069931030273\n",
      "0.018759727478027344\n",
      "0.017817258834838867\n",
      "0.017323970794677734\n",
      "0.01784968376159668\n",
      "0.017528057098388672\n",
      "0.017452239990234375\n",
      "0.017467737197875977\n",
      "0.01871514320373535\n",
      "0.017989158630371094\n",
      "0.018342971801757812\n",
      "0.01865410804748535\n",
      "0.018361806869506836\n",
      "0.01766490936279297\n",
      "[8 1 1 0 0.7615272998809814 8 143 'NULL']\n"
     ]
    },
    {
     "ename": "NameError",
     "evalue": "name 'results8' is not defined",
     "output_type": "error",
     "traceback": [
      "\u001b[0;31m---------------------------------------------------------------------------\u001b[0m",
      "\u001b[0;31mNameError\u001b[0m                                 Traceback (most recent call last)",
      "\u001b[0;32m<ipython-input-3-5bc316fc3d71>\u001b[0m in \u001b[0;36m<module>\u001b[0;34m\u001b[0m\n\u001b[1;32m     25\u001b[0m \u001b[0mresult\u001b[0m \u001b[0;34m=\u001b[0m \u001b[0mnp\u001b[0m\u001b[0;34m.\u001b[0m\u001b[0marray\u001b[0m\u001b[0;34m(\u001b[0m\u001b[0;34m[\u001b[0m\u001b[0;36m8\u001b[0m\u001b[0;34m,\u001b[0m \u001b[0;36m1\u001b[0m\u001b[0;34m,\u001b[0m \u001b[0;36m1\u001b[0m\u001b[0;34m,\u001b[0m \u001b[0;36m0\u001b[0m\u001b[0;34m,\u001b[0m \u001b[0mexec_time\u001b[0m\u001b[0;34m,\u001b[0m \u001b[0msol\u001b[0m\u001b[0;34m.\u001b[0m\u001b[0mshape\u001b[0m\u001b[0;34m[\u001b[0m\u001b[0;36m1\u001b[0m\u001b[0;34m]\u001b[0m\u001b[0;34m,\u001b[0m \u001b[0malgorithm\u001b[0m\u001b[0;34m.\u001b[0m\u001b[0mntentative\u001b[0m\u001b[0;34m,\u001b[0m \u001b[0;34m\"NULL\"\u001b[0m\u001b[0;34m]\u001b[0m\u001b[0;34m,\u001b[0m \u001b[0mdtype\u001b[0m\u001b[0;34m=\u001b[0m\u001b[0mnp\u001b[0m\u001b[0;34m.\u001b[0m\u001b[0mdtype\u001b[0m\u001b[0;34m(\u001b[0m\u001b[0mobject\u001b[0m\u001b[0;34m)\u001b[0m\u001b[0;34m)\u001b[0m\u001b[0;34m\u001b[0m\u001b[0;34m\u001b[0m\u001b[0m\n\u001b[1;32m     26\u001b[0m \u001b[0mprint\u001b[0m\u001b[0;34m(\u001b[0m\u001b[0mresult\u001b[0m\u001b[0;34m)\u001b[0m\u001b[0;34m\u001b[0m\u001b[0;34m\u001b[0m\u001b[0m\n\u001b[0;32m---> 27\u001b[0;31m \u001b[0mresults8\u001b[0m \u001b[0;34m=\u001b[0m \u001b[0mnp\u001b[0m\u001b[0;34m.\u001b[0m\u001b[0mvstack\u001b[0m\u001b[0;34m(\u001b[0m\u001b[0;34m(\u001b[0m\u001b[0mresults8\u001b[0m\u001b[0;34m,\u001b[0m \u001b[0mresult\u001b[0m\u001b[0;34m)\u001b[0m\u001b[0;34m)\u001b[0m\u001b[0;34m\u001b[0m\u001b[0;34m\u001b[0m\u001b[0m\n\u001b[0m\u001b[1;32m     28\u001b[0m \u001b[0;34m\u001b[0m\u001b[0m\n\u001b[1;32m     29\u001b[0m \u001b[0;32mfor\u001b[0m \u001b[0mi\u001b[0m \u001b[0;32min\u001b[0m \u001b[0mrange\u001b[0m\u001b[0;34m(\u001b[0m\u001b[0mrep\u001b[0m\u001b[0;34m)\u001b[0m\u001b[0;34m:\u001b[0m\u001b[0;34m\u001b[0m\u001b[0;34m\u001b[0m\u001b[0m\n",
      "\u001b[0;31mNameError\u001b[0m: name 'results8' is not defined"
     ]
    }
   ],
   "source": [
    "##############################################################\n",
    "om = np.array([\n",
    "[0,4,6,5,5,5,2,5],\n",
    "[6,0,4,5,5,3,3,5],\n",
    "[4,6,0,7,6,5,0,5],\n",
    "[5,5,3,0,8,5,1,6],\n",
    "[5,5,4,2,0,4,1,6],\n",
    "[5,7,5,5,6,0,1,4],\n",
    "[8,7,10,9,9,9,0,7],\n",
    "[5,5,5,4,4,6,3,0]])\n",
    "\n",
    " \n",
    "rep = 15\n",
    "\n",
    "for i in range(rep):\n",
    "\n",
    "    # Algorithm without Condorcet\n",
    "    algorithm = am0.AzziniMunda0(om) \n",
    "    start_time = time.time()\n",
    "    sol = algorithm.execute()\n",
    "    t = (time.time() - start_time)\n",
    "    exec_time += t\n",
    "    print(t)\n",
    "exec_time = exec_time/rep\n",
    "result = np.array([8, 1, 1, 0, exec_time, sol.shape[1], algorithm.ntentative, \"NULL\"], dtype=np.dtype(object))\n",
    "print(result)\n",
    "results8 = np.vstack((results8, result))\n",
    "\n",
    "for i in range(rep):\n",
    "\n",
    "    # Algorithm with Condorcet winner\n",
    "    algorithm = am1.AzziniMunda1(om) \n",
    "    start_time = time.time()\n",
    "    sol = algorithm.execute()\n",
    "    t = (time.time() - start_time)\n",
    "    exec_time = t\n",
    "    print(t)\n",
    "exec_time = exec_time/rep\n",
    "result = np.array([8, 1, 1, 1, exec_time, sol.shape[1], algorithm.ntentative, algorithm.cwinner], dtype=np.dtype(object))\n",
    "print(result)\n",
    "results8 = np.vstack((results8, result))\n",
    "\n",
    "##############################################################\n",
    "om = np.array([\n",
    "[0,4,6,6,5,6,1,4],\n",
    "[6,0,4,5,4,7,1,6],\n",
    "[4,6,0,4,7,3,3,5],\n",
    "[4,5,6,0,5,4,2,5],\n",
    "[5,6,3,5,0,5,3,5],\n",
    "[4,3,7,6,5,0,0,5],\n",
    "[9,9,7,8,7,10,0,9],\n",
    "[6,4,5,5,5,5,1,0]])\n",
    "\n",
    " \n",
    "rep = 15\n",
    "\n",
    "for i in range(rep):\n",
    "\n",
    "    # Algorithm without Condorcet\n",
    "    algorithm = am0.AzziniMunda0(om) \n",
    "    start_time = time.time()\n",
    "    sol = algorithm.execute()\n",
    "    t = (time.time() - start_time)\n",
    "    exec_time += t\n",
    "    print(t)\n",
    "exec_time = exec_time/rep\n",
    "result = np.array([8, 1, 2, 0, exec_time, sol.shape[1], algorithm.ntentative, \"NULL\"], dtype=np.dtype(object))\n",
    "print(result)\n",
    "results8 = np.vstack((results8, result))\n",
    "\n",
    "\n",
    "          \n",
    "for i in range(rep):\n",
    "\n",
    "    # Algorithm with Condorcet winner\n",
    "    algorithm = am1.AzziniMunda1(om) \n",
    "    start_time = time.time()\n",
    "    sol = algorithm.execute()\n",
    "    t = (time.time() - start_time)\n",
    "    exec_time = t\n",
    "    print(t)\n",
    "exec_time = exec_time/rep\n",
    "result = np.array([8, 1, 2, 1, exec_time, sol.shape[1], algorithm.ntentative, algorithm.cwinner], dtype=np.dtype(object))\n",
    "print(result)\n",
    "results8 = np.vstack((results8, result))\n",
    "\n",
    "##############################################################\n",
    "om = np.array([\n",
    "[0,4,2,4,2,5,3,6],\n",
    "[6,0,7,4,2,5,4,4],\n",
    "[8,3,0,3,3,5,3,6],\n",
    "[6,6,7,0,1,4,6,3],\n",
    "[8,8,7,9,0,8,9,9],\n",
    "[5,5,5,6,2,0,5,5],\n",
    "[7,6,7,4,1,5,0,4],\n",
    "[4,6,4,7,1,5,6,0]])\n",
    "\n",
    " \n",
    "rep = 15\n",
    "\n",
    "for i in range(rep):\n",
    "\n",
    "    # Algorithm without Condorcet\n",
    "    algorithm = am0.AzziniMunda0(om) \n",
    "    start_time = time.time()\n",
    "    sol = algorithm.execute()\n",
    "    t = (time.time() - start_time)\n",
    "    exec_time += t\n",
    "    print(t)\n",
    "exec_time = exec_time/rep\n",
    "result = np.array([8, 1, 3, 0, exec_time, sol.shape[1], algorithm.ntentative, \"NULL\"], dtype=np.dtype(object))\n",
    "print(result)\n",
    "results8 = np.vstack((results8, result))\n",
    "\n",
    "\n",
    "          \n",
    "for i in range(rep):\n",
    "\n",
    "    # Algorithm with Condorcet winner\n",
    "    algorithm = am1.AzziniMunda1(om) \n",
    "    start_time = time.time()\n",
    "    sol = algorithm.execute()\n",
    "    t = (time.time() - start_time)\n",
    "    exec_time = t\n",
    "    print(t)\n",
    "exec_time = exec_time/rep\n",
    "result = np.array([8, 1, 3, 1, exec_time, sol.shape[1], algorithm.ntentative, algorithm.cwinner], dtype=np.dtype(object))\n",
    "print(result)\n",
    "results8 = np.vstack((results8, result))\n",
    "\n",
    "##############################################################\n",
    "om = np.array([\n",
    "[0,5,5,7,4,4,5,4],\n",
    "[5,0,5,6,4,5,6,2],\n",
    "[5,5,0,4,6,3,5,3],\n",
    "[3,4,6,0,5,6,6,3],\n",
    "[6,6,4,5,0,7,4,2],\n",
    "[6,5,7,4,3,0,5,2],\n",
    "[5,4,5,4,6,5,0,2],\n",
    "[6,8,7,7,8,8,8,0]])\n",
    "\n",
    " \n",
    "rep = 15\n",
    "\n",
    "for i in range(rep):\n",
    "\n",
    "    # Algorithm without Condorcet\n",
    "    algorithm = am0.AzziniMunda0(om) \n",
    "    start_time = time.time()\n",
    "    sol = algorithm.execute()\n",
    "    t = (time.time() - start_time)\n",
    "    exec_time += t\n",
    "    print(t)\n",
    "exec_time = exec_time/rep\n",
    "result = np.array([8, 1, 4, 0, exec_time, sol.shape[1], algorithm.ntentative, \"NULL\"], dtype=np.dtype(object))\n",
    "print(result)\n",
    "results8 = np.vstack((results8, result))\n",
    "\n",
    "\n",
    "          \n",
    "for i in range(rep):\n",
    "\n",
    "    # Algorithm with Condorcet winner\n",
    "    algorithm = am1.AzziniMunda1(om) \n",
    "    start_time = time.time()\n",
    "    sol = algorithm.execute()\n",
    "    t = (time.time() - start_time)\n",
    "    exec_time = t\n",
    "    print(t)\n",
    "exec_time = exec_time/rep\n",
    "result = np.array([8, 1, 4, 1, exec_time, sol.shape[1], algorithm.ntentative, algorithm.cwinner], dtype=np.dtype(object))\n",
    "print(result)\n",
    "results8 = np.vstack((results8, result))\n"
   ]
  },
  {
   "cell_type": "code",
   "execution_count": 2,
   "metadata": {
    "scrolled": true
   },
   "outputs": [
    {
     "name": "stdout",
     "output_type": "stream",
     "text": [
      "0.01822185516357422\n",
      "[[5 0 4 1 3 2]\n",
      " [5 1 4 0 3 2]]\n",
      "#####\n",
      "0.004266977310180664\n",
      "[[5 0 4 1 3 2]\n",
      " [5 1 4 0 3 2]]\n"
     ]
    }
   ],
   "source": [
    "om = np.array([\n",
    "[0,3,3,0,3,0],\n",
    "[7,0,7,5,5,7],\n",
    "[7,3,0,2,3,4],\n",
    "[10,5,8,0,6,7],\n",
    "[7,5,7,4,0,4],\n",
    "[10,3,6,3,6,0]])\n",
    "algorithm = am0.AzziniMunda0(om) \n",
    "start_time = time.time()\n",
    "sol = algorithm.execute()\n",
    "exec_time = (time.time() - start_time)\n",
    "print(exec_time)\n",
    "print(sol)\n",
    "print(\"#####\")\n",
    "algorithm = am3.AzziniMunda3(om, np.float('inf')) \n",
    "start_time = time.time()\n",
    "sol = algorithm.execute()\n",
    "exec_time = (time.time() - start_time)\n",
    "print(exec_time)\n",
    "print(sol)\n"
   ]
  },
  {
   "cell_type": "code",
   "execution_count": 5,
   "metadata": {},
   "outputs": [
    {
     "name": "stdout",
     "output_type": "stream",
     "text": [
      "[[ 0  3  7  3  7  3  3  7  7  7  3  3]\n",
      " [ 7  0  4  0  7  7  3  4  4  7  4  4]\n",
      " [ 3  6  0  0  7  6  6  3  0  3  6  0]\n",
      " [ 7 10 10  0  7 10 10  7 10 10 10  7]\n",
      " [ 3  3  3  3  0  6  6  3  3  6  3  3]\n",
      " [ 7  3  4  0  4  0  3  7  4  4  7  0]\n",
      " [ 7  7  4  0  4  7  0  4  4  4  4  4]\n",
      " [ 3  6  7  3  7  3  6  0  3  3  6  3]\n",
      " [ 3  6 10  0  7  6  6  7  0  3  6  0]\n",
      " [ 3  3  7  0  4  6  6  7  7  0  3  0]\n",
      " [ 7  6  4  0  7  3  6  4  4  7  0  0]\n",
      " [ 7  6 10  3  7 10  6  7 10 10 10  0]]\n",
      "[0 7 3 7 3 7 7 3 3 3 7 7]\n"
     ]
    }
   ],
   "source": [
    "print(om)\n",
    "print(om[:,0])"
   ]
  },
  {
   "cell_type": "code",
   "execution_count": 6,
   "metadata": {},
   "outputs": [
    {
     "name": "stdout",
     "output_type": "stream",
     "text": [
      "0.0006349086761474609\n"
     ]
    }
   ],
   "source": [
    "st = time.time()\n",
    "condorcet(om)\n",
    "print(time.time()-st)"
   ]
  },
  {
   "cell_type": "code",
   "execution_count": 3,
   "metadata": {},
   "outputs": [],
   "source": [
    "cache = dict()\n",
    "cache[\"noelia\"] = np.array([3, 2, 1])"
   ]
  },
  {
   "cell_type": "code",
   "execution_count": 5,
   "metadata": {},
   "outputs": [
    {
     "data": {
      "text/plain": [
       "array([3, 2, 1])"
      ]
     },
     "execution_count": 5,
     "metadata": {},
     "output_type": "execute_result"
    }
   ],
   "source": [
    "cache[\"noelia\"]"
   ]
  },
  {
   "cell_type": "code",
   "execution_count": 27,
   "metadata": {},
   "outputs": [],
   "source": [
    "to_explore = np.ones(14, dtype=bool)"
   ]
  },
  {
   "cell_type": "code",
   "execution_count": 28,
   "metadata": {},
   "outputs": [],
   "source": [
    "to_explore[3] = 0\n",
    "to_explore[1] = 0"
   ]
  },
  {
   "cell_type": "code",
   "execution_count": 29,
   "metadata": {},
   "outputs": [
    {
     "data": {
      "text/plain": [
       "array([ True, False,  True, False,  True,  True,  True,  True,  True,\n",
       "        True,  True,  True,  True,  True])"
      ]
     },
     "execution_count": 29,
     "metadata": {},
     "output_type": "execute_result"
    }
   ],
   "source": [
    "to_explore"
   ]
  },
  {
   "cell_type": "code",
   "execution_count": 30,
   "metadata": {},
   "outputs": [
    {
     "data": {
      "text/plain": [
       "'[10101111111111]'"
      ]
     },
     "execution_count": 30,
     "metadata": {},
     "output_type": "execute_result"
    }
   ],
   "source": [
    "np.array2string(1*to_explore, separator=\"\", prefix=\"\")"
   ]
  },
  {
   "cell_type": "code",
   "execution_count": 21,
   "metadata": {},
   "outputs": [
    {
     "name": "stdout",
     "output_type": "stream",
     "text": [
      "[[False False False False False False]\n",
      " [ True False  True False False  True]\n",
      " [ True False False False False False]\n",
      " [ True False  True False  True  True]\n",
      " [ True False  True False False False]\n",
      " [ True False  True False  True False]]\n",
      "0.0019390583038330078\n",
      "[3]\n"
     ]
    }
   ],
   "source": [
    "om = np.array([\n",
    "[0,3,3,0,3,0],\n",
    "[7,0,7,5,5,7],\n",
    "[7,3,0,2,3,4],\n",
    "[10,5,8,0,6,7],\n",
    "[7,5,7,4,0,4],\n",
    "[10,3,6,3,6,0]])\n",
    "print(om > 5)\n",
    "st = time.time()\n",
    "a = (np.sum((om > 5), axis = 1) == 4).nonzero()[0].astype(int)\n",
    "print(time.time() - st)\n",
    "print(a)"
   ]
  },
  {
   "cell_type": "code",
   "execution_count": 35,
   "metadata": {},
   "outputs": [
    {
     "name": "stdout",
     "output_type": "stream",
     "text": [
      "0.00022602081298828125\n"
     ]
    }
   ],
   "source": [
    "st = time.time()\n",
    "(om > 5).sum()\n",
    "print(time.time() - st)"
   ]
  },
  {
   "cell_type": "code",
   "execution_count": 27,
   "metadata": {},
   "outputs": [
    {
     "name": "stdout",
     "output_type": "stream",
     "text": [
      "[[ 0  3  3  0  3  0]\n",
      " [ 7  0  7  5  5  7]\n",
      " [ 7  3  0  2  3  4]\n",
      " [10  5  8  0  6  7]\n",
      " [ 7  5  7  4  0  4]\n",
      " [10  3  6  3  6  0]]\n"
     ]
    },
    {
     "data": {
      "text/plain": [
       "array([[ 0,  0],\n",
       "       [10,  0]])"
      ]
     },
     "execution_count": 27,
     "metadata": {},
     "output_type": "execute_result"
    }
   ],
   "source": [
    "print(om)\n",
    "keep = [True, False, False, True, False, False]\n",
    "om[keep,:][:,keep]"
   ]
  },
  {
   "cell_type": "code",
   "execution_count": 76,
   "metadata": {},
   "outputs": [
    {
     "name": "stdout",
     "output_type": "stream",
     "text": [
      "[[False False False False False False]\n",
      " [ True False  True False False  True]\n",
      " [ True False False False False False]\n",
      " [ True False  True False  True  True]\n",
      " [ True False  True False False False]\n",
      " [ True False  True False  True False]]\n",
      "0.00030684471130371094\n",
      "[]\n"
     ]
    }
   ],
   "source": [
    "om = np.array([\n",
    "[0,3,3,0,3,0],\n",
    "[7,0,7,5,5,7],\n",
    "[7,3,0,2,3,4],\n",
    "[10,5,8,0,6,7],\n",
    "[7,5,7,4,0,4],\n",
    "[10,3,6,3,6,0]])\n",
    "b = om > 5\n",
    "print(b)\n",
    "keep = [True, True, True, True, True, True]\n",
    "st = time.time()\n",
    "a = (np.sum(b[keep,:][:,keep], axis = 1) == 10).nonzero()[0]\n",
    "print(time.time() - st)\n",
    "print(a)"
   ]
  },
  {
   "cell_type": "code",
   "execution_count": 77,
   "metadata": {},
   "outputs": [
    {
     "name": "stdout",
     "output_type": "stream",
     "text": [
      "si\n"
     ]
    }
   ],
   "source": [
    "if a.size == 0:\n",
    "    print(\"si\")"
   ]
  },
  {
   "cell_type": "code",
   "execution_count": 64,
   "metadata": {},
   "outputs": [
    {
     "data": {
      "text/plain": [
       "array([3])"
      ]
     },
     "execution_count": 64,
     "metadata": {},
     "output_type": "execute_result"
    }
   ],
   "source": [
    "a"
   ]
  },
  {
   "cell_type": "code",
   "execution_count": null,
   "metadata": {},
   "outputs": [],
   "source": []
  }
 ],
 "metadata": {
  "kernelspec": {
   "display_name": "Python 3",
   "language": "python",
   "name": "python3"
  },
  "language_info": {
   "codemirror_mode": {
    "name": "ipython",
    "version": 3
   },
   "file_extension": ".py",
   "mimetype": "text/x-python",
   "name": "python",
   "nbconvert_exporter": "python",
   "pygments_lexer": "ipython3",
   "version": "3.8.5"
  }
 },
 "nbformat": 4,
 "nbformat_minor": 4
}
